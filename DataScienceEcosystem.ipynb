{
 "cells": [
  {
   "cell_type": "markdown",
   "id": "16efb312-8d2b-4c98-b49c-c68be5341d3e",
   "metadata": {},
   "source": [
    "# Data Science Tools and Ecosystem"
   ]
  },
  {
   "cell_type": "markdown",
   "id": "8ad3672c-f717-48b5-98f5-37af59945045",
   "metadata": {},
   "source": [
    "In this notebook, Data Science Tools and Ecosystem are summarized."
   ]
  },
  {
   "cell_type": "markdown",
   "id": "d1493e14-3cf4-4d96-a771-b5b34489d1b2",
   "metadata": {},
   "source": [
    "Some of the popular languages that Data Scientists use are:\n",
    "1. Python\n",
    "2. SQL\n",
    "3. R"
   ]
  },
  {
   "cell_type": "markdown",
   "id": "bd25ec92-42d6-44e7-a651-d61ab4ce6a90",
   "metadata": {},
   "source": [
    "Some of the commonly used libraries used by Data Scientists include:\n",
    "1. Pandas\n",
    "2. Numpy\n",
    "3. Seaborn\n",
    "4. Matplotlib"
   ]
  },
  {
   "cell_type": "markdown",
   "id": "320ee3c0-f7a2-4664-87d3-b4358e8a4a94",
   "metadata": {},
   "source": [
    "|Data Science Tools:|\n",
    "|:-----:|\n",
    "|Jupiter Notebook|\n",
    "| R Studio|\n",
    "|GitHub|\n",
    "\n",
    "\n"
   ]
  },
  {
   "cell_type": "markdown",
   "id": "7e0b2038-ea52-498f-a129-c20c6f132d4e",
   "metadata": {},
   "source": [
    "### Below are a few examples of evaluating arithmetic expressions in Python:\n",
    "\n",
    "+\tx + y\tAddition\n",
    "-\tx - y\tSubtraction\n",
    "*\tx * y\tMultiplication"
   ]
  },
  {
   "cell_type": "markdown",
   "id": "a7747ba5-e106-4b66-a65c-4a78fcbc18be",
   "metadata": {},
   "source": [
    "This a simple arithmetic expression to mutiply then add integers:"
   ]
  },
  {
   "cell_type": "code",
   "execution_count": 2,
   "id": "0cc69710-ac60-41ce-8a50-a145754670e3",
   "metadata": {},
   "outputs": [
    {
     "data": {
      "text/plain": [
       "17"
      ]
     },
     "execution_count": 2,
     "metadata": {},
     "output_type": "execute_result"
    }
   ],
   "source": [
    "(3*4)+5"
   ]
  },
  {
   "cell_type": "markdown",
   "id": "429ab88d-4f0e-4263-bfcc-822d88b4d25c",
   "metadata": {},
   "source": [
    "This will convert 200 minutes to hours by diving by 60"
   ]
  },
  {
   "cell_type": "code",
   "execution_count": 4,
   "id": "edc3d3ee-e741-4417-b996-9c0d824f00ee",
   "metadata": {},
   "outputs": [
    {
     "data": {
      "text/plain": [
       "3.3333333333333335"
      ]
     },
     "execution_count": 4,
     "metadata": {},
     "output_type": "execute_result"
    }
   ],
   "source": [
    "200/60"
   ]
  },
  {
   "cell_type": "markdown",
   "id": "3c10b557-7a62-4bab-b7a3-1d5f1a724bd4",
   "metadata": {},
   "source": [
    "**Objectives:**\n",
    "- create a jupyter notebook file\n",
    "- making ordered list in jupyter notebook\n",
    "- making a single column table in jupyter notebook\n",
    "- using basic arithmetic expressions "
   ]
  },
  {
   "cell_type": "markdown",
   "id": "b34fe439-5fb7-475f-aa9c-27fdcb38abef",
   "metadata": {},
   "source": [
    "## Author:\n",
    "József Kancsár"
   ]
  },
  {
   "cell_type": "code",
   "execution_count": null,
   "id": "9f6c63ef-f230-422e-b7c7-d55a2a05e722",
   "metadata": {},
   "outputs": [],
   "source": []
  }
 ],
 "metadata": {
  "kernelspec": {
   "display_name": "Python 3 (ipykernel)",
   "language": "python",
   "name": "python3"
  },
  "language_info": {
   "codemirror_mode": {
    "name": "ipython",
    "version": 3
   },
   "file_extension": ".py",
   "mimetype": "text/x-python",
   "name": "python",
   "nbconvert_exporter": "python",
   "pygments_lexer": "ipython3",
   "version": "3.12.7"
  }
 },
 "nbformat": 4,
 "nbformat_minor": 5
}
